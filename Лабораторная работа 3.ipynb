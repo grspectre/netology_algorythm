{
 "cells": [
  {
   "cell_type": "code",
   "execution_count": null,
   "id": "6eca6754",
   "metadata": {},
   "outputs": [],
   "source": [
    "def moveTower(height,fromPole, toPole, withPole):\n",
    "    \"\"\"\n",
    "    Реализация основного алгоритма\n",
    "    \"\"\"\n",
    "    if height >= 1:\n",
    "        moveTower(height-1, fromPole, withPole, toPole)\n",
    "        moveDisk(height, fromPole, toPole)\n",
    "        moveTower(height-1, withPole, toPole, fromPole)\n",
    "\n",
    "\n",
    "def moveDisk(h, fp, tp):\n",
    "    \"\"\"\n",
    "    Перенос диска с одного стержня на другой\n",
    "    \"\"\"\n",
    "    print(\"Диск\", h, \"перемещён с\", fp, \"на\", tp)\n",
    "\n",
    "\n",
    "def main():\n",
    "    \"\"\"\n",
    "    Ввод данных и запуск алгоритма\n",
    "    \"\"\"\n",
    "    while True:\n",
    "        quantity = input(\"Введите количество дисков:\")\n",
    "        try:\n",
    "            quantity = int(quantity)\n",
    "            break\n",
    "        except ValueError:\n",
    "            print(\"Введите целое число.\")\n",
    "    moveTower(quantity, \"A\", \"B\", \"C\")\n",
    "\n",
    "\n",
    "main()"
   ]
  }
 ],
 "metadata": {
  "kernelspec": {
   "display_name": "Python 3 (ipykernel)",
   "language": "python",
   "name": "python3"
  },
  "language_info": {
   "codemirror_mode": {
    "name": "ipython",
    "version": 3
   },
   "file_extension": ".py",
   "mimetype": "text/x-python",
   "name": "python",
   "nbconvert_exporter": "python",
   "pygments_lexer": "ipython3",
   "version": "3.11.4"
  }
 },
 "nbformat": 4,
 "nbformat_minor": 5
}
