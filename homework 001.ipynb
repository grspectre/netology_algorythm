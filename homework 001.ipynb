{
 "cells": [
  {
   "cell_type": "markdown",
   "id": "7278247a",
   "metadata": {},
   "source": [
    "# Домашнее задание 1\n",
    "\n",
    "## Задание 1\n",
    "\n",
    "Напишите код на Python в среде Jupyter Notebook для решения следующей задачи.\n",
    "\n",
    "Дана переменная, в которой хранится четырёхзначное число — год. Необходимо написать программу, которая выведет, является этот год високосным или обычным.\n",
    "\n",
    "Пример работы программы:\n",
    "\n",
    "```\n",
    "year = 2024\n",
    "Результат:\n",
    "Високосный год\n",
    "\n",
    "year = 2023\n",
    "Результат:\n",
    "Обычный год\n",
    "```\n"
   ]
  },
  {
   "cell_type": "code",
   "execution_count": null,
   "id": "da4e92dd",
   "metadata": {},
   "outputs": [],
   "source": [
    "def is_leap_year(year: int) -> bool:\n",
    "    \"\"\"\n",
    "    Returns True if year is leap year.\n",
    "    \"\"\"\n",
    "    if year < 0:\n",
    "        raise ValueError(\"Year must be greather or equals 0\")\n",
    "    if year % 100 == 0 and year % 400 != 0:\n",
    "        return False\n",
    "    return year % 4 == 0\n",
    "\n",
    "\n",
    "years = (1700, 2000, 2023, 2024)\n",
    "\n",
    "for year in years:\n",
    "    print(year, \"Високосный год\" if is_leap_year(year) else \"Обычный год\")"
   ]
  },
  {
   "cell_type": "markdown",
   "id": "8a61198a",
   "metadata": {},
   "source": [
    "## Задание 2\n",
    "\n",
    "Написать код на Python в среде Jupyter Notebook для решения следующей задачи.\n",
    "\n",
    "Дана переменная, в которой хранится шестизначное число — номер проездного билета. Напишите программу, которая будет определять, является ли этот билет счастливым. Билет считается счастливым, если сумма первых трёх цифр совпадает с суммой последних трёх цифр номера.\n",
    "\n",
    "Примеры работы программы:\n",
    "\n",
    "```\n",
    "number = 123456\n",
    "Результат:\n",
    "Несчастливый билет\n",
    "\n",
    "number = 123321\n",
    "Результат:\n",
    "Счастливый билет\n",
    "```"
   ]
  },
  {
   "cell_type": "code",
   "execution_count": null,
   "id": "b5f2009a",
   "metadata": {},
   "outputs": [],
   "source": [
    "def digits_summary(number: int) -> int:\n",
    "    \"\"\"\n",
    "    Adds up the digits included in given number\n",
    "    \"\"\"\n",
    "    summary = 0\n",
    "    while number > 0:\n",
    "        summary += number % 10\n",
    "        number //= 10\n",
    "    return summary\n",
    "\n",
    "\n",
    "def is_lucky_ticket(number: int) -> bool:\n",
    "    \"\"\"\n",
    "    Checks whether a given number is a lucky ticket number\n",
    "    \"\"\"\n",
    "    if number > 999999 or number < 1:\n",
    "        raise ValueError(\"{} is not a ticket number\".format(number))\n",
    "    sum1 = digits_summary(number // 1000)\n",
    "    sum2 = digits_summary(number % 1000)\n",
    "    return sum1 == sum2\n",
    "\n",
    "\n",
    "numbers = (123456, 123321, 1001, 1)\n",
    "\n",
    "for number in numbers:\n",
    "    print(\"{:06d}\".format(number), \"Счастливый билет\" if is_lucky_ticket(number) else \"Несчастливый билет\")"
   ]
  }
 ],
 "metadata": {
  "kernelspec": {
   "display_name": "Python 3 (ipykernel)",
   "language": "python",
   "name": "python3"
  },
  "language_info": {
   "codemirror_mode": {
    "name": "ipython",
    "version": 3
   },
   "file_extension": ".py",
   "mimetype": "text/x-python",
   "name": "python",
   "nbconvert_exporter": "python",
   "pygments_lexer": "ipython3",
   "version": "3.11.4"
  }
 },
 "nbformat": 4,
 "nbformat_minor": 5
}
