{
 "cells": [
  {
   "cell_type": "markdown",
   "id": "e40052d7",
   "metadata": {},
   "source": [
    "# Лабораторная работа 2\n",
    "\n",
    "## Задание 1\n",
    "\n",
    "Напишите код на Python в среде Jupyter Notebook для решения следующей задачи.\n",
    "\n",
    "Дана переменная, в которой хранится слово из латинских букв. Напишите код, который выводит на экран:\n",
    "\n",
    "- среднюю букву, если число букв в слове нечётное;\n",
    "- две средних буквы, если число букв чётное.\n",
    "\n",
    "Пример работы программы:\n",
    "\n",
    "```\n",
    "word = 'test’\n",
    "Результат: es\n",
    "word = 'testing’\n",
    "Результат: t\n",
    "```"
   ]
  },
  {
   "cell_type": "code",
   "execution_count": 4,
   "id": "e37814bf",
   "metadata": {},
   "outputs": [
    {
     "name": "stdout",
     "output_type": "stream",
     "text": [
      "es\n",
      "t\n",
      "33\n"
     ]
    }
   ],
   "source": [
    "def print_symbols(word: str) -> None:\n",
    "    word_len = len(word)\n",
    "    if word_len % 2 == 0:\n",
    "        print(word[word_len//2-1:word_len//2+1])\n",
    "    else:\n",
    "        print(word[word_len//2:word_len//2+1])\n",
    "\n",
    "words = ['test', 'testing', '123321']\n",
    "for word in words:\n",
    "    print_symbols(word)\n"
   ]
  },
  {
   "cell_type": "markdown",
   "id": "88a6a41a",
   "metadata": {},
   "source": [
    "## Задание 2 (необязательное)\n",
    "Напишите код на Python в среде Jupyter Notebook для решения следующей задачи.\n",
    "\n",
    "Вы делаете MVP (минимально жизнеспособный продукт) dating-сервиса.\n",
    "\n",
    "У вас есть список юношей и девушек.\n",
    "\n",
    "Выдвигаем гипотезу: лучшие рекомендации получатся, если просто отсортировать имена по алфавиту и познакомить людей с одинаковыми индексами после сортировки. Но вы не будете никого знакомить, если кто-то может остаться без пары.\n",
    "\n",
    "Примеры работы программы:\n",
    "\n",
    "```\n",
    "boys = [‘Peter’, ‘Alex’, ‘John’, ‘Arthur’, ‘Richard’]\n",
    "girls = [‘Kate’, ‘Liza’, ‘Kira’, ‘Emma’, ‘Trisha’]\n",
    "\n",
    "Результат\n",
    "Идеальные пары:\n",
    "Alex и Emma\n",
    "Arthur и Kate\n",
    "John и Kira\n",
    "Peter и Liza\n",
    "Richard и Trisha\n",
    "\n",
    "boys = [‘Peter’, ‘Alex’, ‘John’, ‘Arthur’, ‘Richard’, ‘Michael’]\n",
    "girls = [‘Kate’, ‘Liza’, ‘Kira’, ‘Emma’, ‘Trisha’]\n",
    "\n",
    "Результат: Внимание, кто-то может остаться без пары.\n",
    "```"
   ]
  },
  {
   "cell_type": "code",
   "execution_count": 8,
   "id": "61526620",
   "metadata": {},
   "outputs": [
    {
     "name": "stdout",
     "output_type": "stream",
     "text": [
      "Идеальные пары:\n",
      "Alex и Emma\n",
      "Arthur и Kate\n",
      "John и Kira\n",
      "Peter и Liza\n",
      "Richard и Trisha\n",
      "\n",
      "Внимание, кто-то может остаться без пары.\n"
     ]
    }
   ],
   "source": [
    "from typing import List\n",
    "\n",
    "def print_couples(boys: List, girls: List) -> None:\n",
    "    if len(boys) != len(girls):\n",
    "        print('Внимание, кто-то может остаться без пары.')\n",
    "        return\n",
    "    boys = sorted(boys)\n",
    "    girls = sorted(girls)\n",
    "    print('Идеальные пары:')\n",
    "    for i in range(len(boys)):\n",
    "        print('{} и {}'.format(boys[i], girls[i]))\n",
    "    \n",
    "\n",
    "boys = ['Peter', 'Alex', 'John', 'Arthur', 'Richard']\n",
    "girls = ['Kate', 'Liza', 'Kira', 'Emma', 'Trisha']\n",
    "\n",
    "print_couples(boys, girls)\n",
    "print()\n",
    "\n",
    "boys = ['Peter', 'Alex', 'John', 'Arthur', 'Richard', 'Michael']\n",
    "girls = ['Kate', 'Liza', 'Kira', 'Emma', 'Trisha']\n",
    "\n",
    "print_couples(boys, girls)"
   ]
  }
 ],
 "metadata": {
  "kernelspec": {
   "display_name": "Python 3 (ipykernel)",
   "language": "python",
   "name": "python3"
  },
  "language_info": {
   "codemirror_mode": {
    "name": "ipython",
    "version": 3
   },
   "file_extension": ".py",
   "mimetype": "text/x-python",
   "name": "python",
   "nbconvert_exporter": "python",
   "pygments_lexer": "ipython3",
   "version": "3.11.4"
  }
 },
 "nbformat": 4,
 "nbformat_minor": 5
}
