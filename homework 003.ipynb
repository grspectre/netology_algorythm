{
 "cells": [
  {
   "cell_type": "markdown",
   "id": "a0b41e19",
   "metadata": {},
   "source": [
    "# Домашнее задание 3\n",
    "\n",
    "## Задание\n",
    "\n",
    "Написать код на Python в среде Jupyter Notebook для решения задачи.\n",
    "\n",
    "Необходимо написать программу, которая сформирует словарь данных на основании заданных критериев (ключ = ключ в исходной структуре, значение = True — если количество ниже 20 , False — остальные случаи). При разработке использовать dict comprehension.\n",
    "\n",
    "## Исходные данные имеют следующую структуру:\n",
    "\n",
    "```\n",
    "items = {\n",
    "‘milk15’:{‘name’: ‘молоко 1.5%’, ‘count’: 34’, ‘price’: 89.9},\n",
    "‘cheese’:{‘name’: сыр молочный 1 кг.’, ‘count’: 12’, ‘price’: 990.9},\n",
    "‘sausage’:{‘name’: колбаса 1 кг.’, ‘count’: 122’, ‘price’: 1990.9}\n",
    "}\n",
    "```\n",
    "\n",
    "### Результат:\n",
    "\n",
    "```\n",
    "price_less_20 = {\n",
    "‘milk15’: False,\n",
    "‘cheese’: True,\n",
    "‘sausage’: False\n",
    "}\n",
    "```"
   ]
  },
  {
   "cell_type": "code",
   "execution_count": 3,
   "id": "3103ee24",
   "metadata": {},
   "outputs": [
    {
     "name": "stdout",
     "output_type": "stream",
     "text": [
      "{'milk15': False, 'cheese': True, 'sausage': False}\n"
     ]
    }
   ],
   "source": [
    "items = {\n",
    "    'milk15':{'name': 'молоко 1.5%', 'count': 34, 'price': 89.9},\n",
    "    'cheese':{'name': 'сыр молочный 1 кг.', 'count': 12, 'price': 990.9},\n",
    "    'sausage':{'name': 'колбаса 1 кг.', 'count': 122, 'price': 1990.9}\n",
    "}\n",
    "\n",
    "price_less_20 ={key: value['count'] < 20 for (key, value) in items.items()} \n",
    "print(price_less_20)\n"
   ]
  }
 ],
 "metadata": {
  "kernelspec": {
   "display_name": "Python 3 (ipykernel)",
   "language": "python",
   "name": "python3"
  },
  "language_info": {
   "codemirror_mode": {
    "name": "ipython",
    "version": 3
   },
   "file_extension": ".py",
   "mimetype": "text/x-python",
   "name": "python",
   "nbconvert_exporter": "python",
   "pygments_lexer": "ipython3",
   "version": "3.11.4"
  }
 },
 "nbformat": 4,
 "nbformat_minor": 5
}
