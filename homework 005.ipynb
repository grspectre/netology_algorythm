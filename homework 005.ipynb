{
 "cells": [
  {
   "cell_type": "markdown",
   "id": "196b8c48",
   "metadata": {},
   "source": [
    "# Домашнее задание 5\n",
    "\n",
    "## Задание 1\n",
    "\n",
    "Печатные газеты использовали свой формат дат для каждого выпуска. Для каждой газеты из списка напишите формат указанной даты для перевода в объект datetime:\n",
    "```\n",
    "The Moscow Times — Wednesday, October 2, 2002\n",
    "The Guardian — Friday, 11.10.13\n",
    "Daily News — Thursday, 18 August 1977\n",
    "```\n",
    "\n",
    "## Пример работы программы\n",
    "\n",
    "- Программа должна выводить на экран объекты типа datetime, соответствующие датам в условии задачи.\n",
    "- Также программа должна работать итерационно, а именно: принимать входные данные до момента ввода специального символа завершения программы.\n",
    "- Если введённое значение не соответствует ни одному формату, то следует продолжать выполнение программы, переходя на следующую итерацию.\n",
    "- Безопасный переход следует реализовать с помощью механизма исключений.\n"
   ]
  },
  {
   "cell_type": "code",
   "execution_count": null,
   "id": "12fac0fc",
   "metadata": {},
   "outputs": [],
   "source": [
    "import datetime as dt\n",
    "from typing import Optional\n",
    "\n",
    "\n",
    "def prepare_time(date_str: str) -> Optional[dt.datetime]:\n",
    "    \"\"\"\n",
    "    Try to convert string date representation to datetime.datetime object\n",
    "    \"\"\"\n",
    "    formats = [\n",
    "        '%A, %B %d, %Y',\n",
    "        '%A, %d.%m.%y',\n",
    "        '%A, %d %B %Y',\n",
    "    ]\n",
    "    for format in formats:\n",
    "        try:\n",
    "            return dt.datetime.strptime(date_str, format)\n",
    "        except ValueError:\n",
    "            pass\n",
    "    return None\n",
    "\n",
    "\n",
    "def main() -> None:\n",
    "    \"\"\"\n",
    "    Основной цикл выполнения программы\n",
    "    \"\"\"\n",
    "    while True:\n",
    "        in_data = input('Введите дату или q для выхода: ')\n",
    "        in_date = in_data.strip()\n",
    "        if in_data == 'q':\n",
    "            print('выход.')\n",
    "            break;\n",
    "        date = prepare_time(in_data)\n",
    "        if date is not None:\n",
    "            print(date)\n",
    "        else:\n",
    "            print('{} - Неизвестный формат'.format(in_data))\n",
    "        print()\n",
    "\n",
    "\n",
    "if __name__ == '__main__':\n",
    "    main()\n"
   ]
  }
 ],
 "metadata": {
  "kernelspec": {
   "display_name": "Python 3 (ipykernel)",
   "language": "python",
   "name": "python3"
  },
  "language_info": {
   "codemirror_mode": {
    "name": "ipython",
    "version": 3
   },
   "file_extension": ".py",
   "mimetype": "text/x-python",
   "name": "python",
   "nbconvert_exporter": "python",
   "pygments_lexer": "ipython3",
   "version": "3.11.4"
  }
 },
 "nbformat": 4,
 "nbformat_minor": 5
}
